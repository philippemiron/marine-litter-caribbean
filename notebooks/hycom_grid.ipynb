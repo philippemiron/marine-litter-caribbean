{
 "cells": [
  {
   "cell_type": "markdown",
   "id": "c8b8228d-b0ee-4b78-82ac-dc07b20a1c2f",
   "metadata": {},
   "source": [
    "# Retrieve HYCOM grid and mask with land\n",
    "- velocities are interpolated at the center of the cell (`plon`, `plat`)\n",
    "- get corners of cell for binning and plotting (`qlon`, `qlat`)"
   ]
  },
  {
   "cell_type": "code",
   "execution_count": 1,
   "id": "09255d1c-e667-4bc9-8772-eae88fe8c26d",
   "metadata": {},
   "outputs": [],
   "source": [
    "import xarray as xr\n",
    "import numpy as np\n",
    "from scipy.ndimage import generic_filter\n",
    "from datetime import datetime\n",
    "from os.path import join\n",
    "import matplotlib.pyplot as plt"
   ]
  },
  {
   "cell_type": "code",
   "execution_count": 2,
   "id": "0eeee1dd-5ae4-47a2-ac6d-1a172572ae22",
   "metadata": {},
   "outputs": [],
   "source": [
    "import sys\n",
    "sys.path.append('/nexsan/people/pmiron/projects_mars/HYCOM-utilities/python/')\n",
    "import hycom.io as hio"
   ]
  },
  {
   "cell_type": "code",
   "execution_count": 3,
   "id": "2261cae5-70cb-4add-b71e-1321a59af7ce",
   "metadata": {},
   "outputs": [],
   "source": [
    "file = '../data/raw/hycom/regional.grid.glbv'\n",
    "r = hio.read_hycom_coords(file, ['qlon', 'qlat', 'plon', 'plat'])\n",
    "qlon, qlat, plon, plat = r['qlon'][0], r['qlat'][:,0], r['plon'][0], r['plat'][:,0]"
   ]
  },
  {
   "cell_type": "code",
   "execution_count": 4,
   "id": "20be623c-0097-4e55-ba1b-6e589335c443",
   "metadata": {},
   "outputs": [],
   "source": [
    "# read first velocity fields to get pgrid\n",
    "ds = xr.open_dataset('../data/raw/hycom/hycom_GLBv0.08_536_2010010112_t000.nc')\n",
    "\n",
    "# land is nan\n",
    "land = np.zeros_like(ds.surf_u[0], dtype='bool')\n",
    "land[np.isnan(ds.surf_v[0].values)] = 1\n",
    "\n",
    "assert(np.allclose(plon, ds.longitude.values, atol=1e-4))\n",
    "assert(np.allclose(plat, ds.latitude.values))\n",
    "\n",
    "ds.close()"
   ]
  },
  {
   "cell_type": "code",
   "execution_count": 5,
   "id": "84b1287f-4f7c-4f96-b761-c65a6b0f6334",
   "metadata": {},
   "outputs": [],
   "source": [
    "# slice inside caribbean region\n",
    "i0 = 1012; i1 = 1650\n",
    "j0 = 1500; j1 = 1894\n",
    "\n",
    "lon_slice = slice(i0, i1)\n",
    "lat_slice = slice(j0, j1)\n",
    "land = land[lat_slice, lon_slice]\n",
    "plon = plon[lon_slice]\n",
    "plat = plat[lat_slice]\n",
    "\n",
    "qlon = qlon[slice(i0, i1+1)]\n",
    "qlat = qlat[slice(j0, j1+1)]"
   ]
  },
  {
   "cell_type": "code",
   "execution_count": 6,
   "id": "6f40a2b4-38bc-40a7-b2f0-3e3deac30d55",
   "metadata": {},
   "outputs": [
    {
     "name": "stdout",
     "output_type": "stream",
     "text": [
      "[-99.04000092 -98.95999908 -98.87999725]\n",
      "[-99.08000183 -99.         -98.91999817]\n",
      "[0.   0.08 0.16]\n",
      "[-0.04  0.04  0.12]\n"
     ]
    }
   ],
   "source": [
    "for v in [plon, qlon, plat, qlat]:\n",
    "    print(v[:3])"
   ]
  },
  {
   "cell_type": "code",
   "execution_count": 7,
   "id": "48836dc3-6286-48cb-9e8c-d76dc4e81e1c",
   "metadata": {},
   "outputs": [
    {
     "data": {
      "text/plain": [
       "<matplotlib.collections.QuadMesh at 0x7f830a6fc820>"
      ]
     },
     "execution_count": 7,
     "metadata": {},
     "output_type": "execute_result"
    },
    {
     "data": {
      "image/png": "[encoded data removed]",
      "text/plain": [
       "<Figure size 432x288 with 1 Axes>"
      ]
     },
     "metadata": {
      "needs_background": "light"
     },
     "output_type": "display_data"
    }
   ],
   "source": [
    "plt.pcolormesh(qlon, qlat, land)"
   ]
  },
  {
   "cell_type": "code",
   "execution_count": 8,
   "id": "804672c3-1c43-4235-89fb-cd54c3f406b0",
   "metadata": {},
   "outputs": [],
   "source": [
    "# to increase the size of the land we can use this type of filter\n",
    "# size 2 means the bin itself and 1 bin around\n",
    "# size 3 means the bin itself and two bins around\n",
    "land_1x = generic_filter(land, lambda x: np.max(x), size=2, mode='constant')\n",
    "land_2x = generic_filter(land, lambda x: np.max(x), size=3, mode='constant')"
   ]
  },
  {
   "cell_type": "code",
   "execution_count": 9,
   "id": "4afe9fbb-752e-4d6b-ad46-c6d3e4582a2c",
   "metadata": {},
   "outputs": [
    {
     "data": {
      "text/plain": [
       "<matplotlib.collections.QuadMesh at 0x7f8309e99f70>"
      ]
     },
     "execution_count": 9,
     "metadata": {},
     "output_type": "execute_result"
    },
    {
     "data": {
      "image/png": "[encoded data removed]",
      "text/plain": [
       "<Figure size 432x288 with 1 Axes>"
      ]
     },
     "metadata": {
      "needs_background": "light"
     },
     "output_type": "display_data"
    }
   ],
   "source": [
    "plt.pcolormesh(qlon, qlat, land_2x)"
   ]
  },
  {
   "cell_type": "code",
   "execution_count": 10,
   "id": "f0398386-c9cf-4c00-b2ca-9fa340467c26",
   "metadata": {},
   "outputs": [],
   "source": [
    "# save to netCDF\n",
    "xr.Dataset(\n",
    "    data_vars=dict(\n",
    "        land=(['lat', 'lon'], land, {'long_name': 'land mask for GLBv0.08', 'units':'-', 'flag_values':'True, False', 'flag_meanings': 'land, ocean'}),\n",
    "    ),\n",
    "\n",
    "    coords=dict(\n",
    "        plon=(['lon'], plon, {'long_name': 'longitude center cell', 'units':'degrees_east'}),\n",
    "        plat=(['lat'], plat, {'long_name': 'latitude center cell', 'units':'degrees_north'}),\n",
    "        qlon=(['lon1'], qlon, {'long_name': 'longitude q', 'units':'degrees_east'}),\n",
    "        qlat=(['lat1'], qlat, {'long_name': 'latitude q', 'units':'degrees_north'}),\n",
    "    ),\n",
    "\n",
    "    attrs={\n",
    "        'title': 'HYCOM GLBv0.08 land mask',\n",
    "        'institution': 'Florida State University Center for Ocean-Atmospheric Prediction Studies (COAPS)',\n",
    "        'date_created': datetime.now().isoformat(),\n",
    "    }\n",
    ").to_netcdf(join('../data/process', 'land_GLBv0.08.nc'))"
   ]
  },
  {
   "cell_type": "code",
   "execution_count": null,
   "id": "298d00f8-6ccc-4e92-9803-e3d726c884fa",
   "metadata": {},
   "outputs": [],
   "source": []
  }
 ],
 "metadata": {
  "kernelspec": {
   "display_name": "research",
   "language": "python",
   "name": "research"
  },
  "language_info": {
   "codemirror_mode": {
    "name": "ipython",
    "version": 3
   },
   "file_extension": ".py",
   "mimetype": "text/x-python",
   "name": "python",
   "nbconvert_exporter": "python",
   "pygments_lexer": "ipython3",
   "version": "3.10.4"
  }
 },
 "nbformat": 4,
 "nbformat_minor": 5
}
