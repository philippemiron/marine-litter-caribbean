{
 "cells": [
  {
   "cell_type": "markdown",
   "id": "165ced81-e6f8-4f3e-9abd-70b131ecc41c",
   "metadata": {},
   "source": [
    "# Retrieve indices and origin of injected particles for monthly releases"
   ]
  },
  {
   "cell_type": "code",
   "execution_count": null,
   "id": "da3492f0-5e82-4744-89a6-745be0191301",
   "metadata": {},
   "outputs": [],
   "source": [
    "import pandas as pd\n",
    "import numpy as np\n",
    "import os\n",
    "from os.path import join\n",
    "import sys\n",
    "from datetime import datetime"
   ]
  },
  {
   "cell_type": "code",
   "execution_count": null,
   "id": "0c511735-f4f0-4f75-b270-d37d7c85d908",
   "metadata": {},
   "outputs": [],
   "source": [
    "sys.path.append('../') \n",
    "from particles import coastal_particles, entering_particles"
   ]
  },
  {
   "cell_type": "code",
   "execution_count": null,
   "id": "4d001f6d-be2b-442f-bb56-04e45440a4c3",
   "metadata": {},
   "outputs": [],
   "source": [
    "caribbean_countries = [ # countries\n",
    "    'Antigua and Barbuda', 'Bahamas', 'Barbados',\n",
    "    'Cuba', 'Dominica', 'Dominican Republic',\n",
    "    'Grenada', 'Haiti', 'Jamaica', 'Saint Kitts and Nevis',\n",
    "    'Saint Lucia', 'Saint Vincent and the Grenadines',\n",
    "    'Trinidad and Tobago',\n",
    "    # dependant teritory\n",
    "    'Anguilla', 'Aruba',\n",
    "    'Bonaire, Sint Eustatius and Saba',\n",
    "    'British Virgin Islands', 'Cayman Islands',\n",
    "    'Curaçao', 'Guadeloupe', 'Martinique',\n",
    "    'Montserrat', 'Puerto Rico', 'Saint-Barthélemy',\n",
    "    'Saint-Martin', 'Sint Maarten',\n",
    "    'Turks and Caicos Islands', 'Virgin Islands, U.S.',\n",
    "    # other countries\n",
    "    'Mexico', 'United States', 'Venezuela', 'Belize', 'Colombia',\n",
    "    'Costa Rica', 'Guatemala', 'Guyana', 'Honduras', 'Nicaragua', 'Panama',\n",
    "    'Suriname']"
   ]
  },
  {
   "cell_type": "code",
   "execution_count": null,
   "id": "5fb66173-2f8d-437e-8174-af62ef29f823",
   "metadata": {},
   "outputs": [],
   "source": [
    "global_c_list = pd.read_csv('../data/raw/temp/country_reference_list.csv', header=None, index_col=0, names=['index', 'country'])\n",
    "map_cid = {}\n",
    "for i, c in enumerate(caribbean_countries):\n",
    "    map_cid[i] = global_c_list.loc[global_c_list['country'] == c].index[0]"
   ]
  },
  {
   "cell_type": "code",
   "execution_count": null,
   "id": "85e152a3-757b-49ed-94ae-599f27b67b6b",
   "metadata": {},
   "outputs": [],
   "source": [
    "map_cid"
   ]
  },
  {
   "cell_type": "code",
   "execution_count": null,
   "id": "f00bc12c-46cc-4b21-a38c-b49eb0fdd3f7",
   "metadata": {},
   "outputs": [],
   "source": [
    "config = lambda: [p for p in config.__dict__.keys()]\n",
    "folder_release = '/nexsan/people/pmiron/projects_mars/caribbean-marine-litter/data/process'\n",
    "config.files_release = [join(folder_release, 'coasts.csv'), join(folder_release, 'rivers.csv')]\n",
    "config.files_boundary = [join(folder_release, 'inputs.csv')]"
   ]
  },
  {
   "cell_type": "code",
   "execution_count": 75,
   "id": "2ffa323a-0177-4dd1-896b-755483c59113",
   "metadata": {},
   "outputs": [],
   "source": [
    "for year in range(2010, 2022):\n",
    "    for month in range(1, 13):\n",
    "        start_date = datetime(year, month, 1)\n",
    "\n",
    "        df1 = coastal_particles(config, start_date)\n",
    "\n",
    "        # change indices to global list\n",
    "        for i in range(0, len(df1)):\n",
    "            df1.loc[i,['country id']] = map_cid[df1.loc[i,['country id']].values[0]]\n",
    "\n",
    "        df2 = entering_particles(config, start_date)\n",
    "        df = pd.concat([df1, df2], ignore_index=True, axis=0)\n",
    "\n",
    "        df.to_csv(join('releases/', f\"particles_info_{start_date.strftime('%Y%m%d')}.csv\"), index=False)"
   ]
  },
  {
   "cell_type": "code",
   "execution_count": 76,
   "id": "23f8e6e0-c174-4b6a-978d-c9d29f80379b",
   "metadata": {},
   "outputs": [],
   "source": [
    "year = 2010\n",
    "month = 1\n",
    "start_date = datetime(year, month, 1)\n",
    "\n",
    "df1 = coastal_particles(config, start_date)\n",
    "df2 = entering_particles(config, start_date)\n",
    "df = pd.concat([df1, df2], ignore_index=True, axis=0)"
   ]
  },
  {
   "cell_type": "code",
   "execution_count": 77,
   "id": "ba4ae641-9058-47bf-b9a3-c57e5ce19947",
   "metadata": {},
   "outputs": [
    {
     "data": {
      "text/plain": [
       "11315"
      ]
     },
     "execution_count": 77,
     "metadata": {},
     "output_type": "execute_result"
    }
   ],
   "source": [
    "len(df1)"
   ]
  },
  {
   "cell_type": "code",
   "execution_count": 78,
   "id": "709f9466-3f8a-4abc-87e7-895d65fff9c1",
   "metadata": {},
   "outputs": [
    {
     "data": {
      "text/plain": [
       "136"
      ]
     },
     "execution_count": 78,
     "metadata": {},
     "output_type": "execute_result"
    }
   ],
   "source": [
    "11540 - 11404"
   ]
  },
  {
   "cell_type": "code",
   "execution_count": 79,
   "id": "1fce213f-3d5f-441c-8dc0-dc16ae9aae06",
   "metadata": {},
   "outputs": [
    {
     "data": {
      "text/plain": [
       "11404"
      ]
     },
     "execution_count": 79,
     "metadata": {},
     "output_type": "execute_result"
    }
   ],
   "source": [
    "len(df)"
   ]
  },
  {
   "cell_type": "code",
   "execution_count": 80,
   "id": "565aa39f-ffb2-48f4-95c4-7eb454bc8d6e",
   "metadata": {},
   "outputs": [
    {
     "data": {
      "text/plain": [
       "26"
      ]
     },
     "execution_count": 80,
     "metadata": {},
     "output_type": "execute_result"
    }
   ],
   "source": [
    "len(np.unique(df1['country id']))"
   ]
  },
  {
   "cell_type": "code",
   "execution_count": 81,
   "id": "80349f78-f8ee-4069-b6b4-8a063f4d3b91",
   "metadata": {},
   "outputs": [
    {
     "data": {
      "text/plain": [
       "11315"
      ]
     },
     "execution_count": 81,
     "metadata": {},
     "output_type": "execute_result"
    }
   ],
   "source": [
    "len(df1)"
   ]
  },
  {
   "cell_type": "code",
   "execution_count": 82,
   "id": "70994f03-9fce-4c8d-9394-439cf529bdf9",
   "metadata": {},
   "outputs": [],
   "source": [
    "config.files_release = [join(folder_release, 'coasts_uniform.csv')]\n",
    "config.files_boundary = []"
   ]
  },
  {
   "cell_type": "code",
   "execution_count": 83,
   "id": "bbb8baad-8e6b-4d6a-ad48-7e4fca56daac",
   "metadata": {},
   "outputs": [],
   "source": [
    "# uniform list\n",
    "df_u = pd.read_csv('../data/process/coasts_uniform.csv', header=0)\n",
    "\n",
    "# change indices to global list\n",
    "for i in range(0, len(df_u)):\n",
    "    df_u.loc[i,['country id']] = map_cid[df_u.loc[i,['country id']].values[0]]"
   ]
  },
  {
   "cell_type": "code",
   "execution_count": 84,
   "id": "69ef5e74-41e3-4b4e-863f-b3bc91c12cc6",
   "metadata": {},
   "outputs": [],
   "source": [
    "df_u = df_u.reindex(columns=['country id', 'longitude', 'latitude'])"
   ]
  },
  {
   "cell_type": "code",
   "execution_count": 85,
   "id": "ca9cfd8b-fd6e-4d17-b1cc-48bb94fc82f4",
   "metadata": {},
   "outputs": [],
   "source": [
    "df_u.to_csv(join('releases/', f\"particles_info_uniform.csv\"), index=False)"
   ]
  },
  {
   "cell_type": "code",
   "execution_count": null,
   "id": "e10b3235-a5bf-4293-a65e-0153c49c8fab",
   "metadata": {},
   "outputs": [],
   "source": []
  }
 ],
 "metadata": {
  "kernelspec": {
   "display_name": "parcels",
   "language": "python",
   "name": "parcels"
  },
  "language_info": {
   "codemirror_mode": {
    "name": "ipython",
    "version": 3
   },
   "file_extension": ".py",
   "mimetype": "text/x-python",
   "name": "python",
   "nbconvert_exporter": "python",
   "pygments_lexer": "ipython3",
   "version": "3.10.6"
  }
 },
 "nbformat": 4,
 "nbformat_minor": 5
}
