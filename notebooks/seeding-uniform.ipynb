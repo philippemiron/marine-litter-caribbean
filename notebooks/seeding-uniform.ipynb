{
 "cells": [
  {
   "cell_type": "markdown",
   "id": "165ced81-e6f8-4f3e-9abd-70b131ecc41c",
   "metadata": {},
   "source": [
    "# Uniform seeding of the Caribbean \n",
    "\n",
    "**No weight** assigned to particle"
   ]
  },
  {
   "cell_type": "code",
   "execution_count": 1,
   "id": "da3492f0-5e82-4744-89a6-745be0191301",
   "metadata": {},
   "outputs": [],
   "source": [
    "import pandas as pd\n",
    "import geopandas as gpd\n",
    "import numpy as np\n",
    "import matplotlib.pyplot as plt\n",
    "from matplotlib import path, colors\n",
    "from matplotlib.collections import PatchCollection\n",
    "from matplotlib.patches import Rectangle\n",
    "import urllib.request\n",
    "import skimage.io as io\n",
    "import copy\n",
    "import os\n",
    "from os.path import join\n",
    "from datetime import datetime\n",
    "import scipy as sc\n",
    "from scipy import stats\n",
    "import xarray as xr\n",
    "from scipy.interpolate import RegularGridInterpolator\n",
    "from scipy.ndimage import generic_filter\n",
    "import shapely\n",
    "import cartopy.io.shapereader as shpreader\n",
    "import cartopy.feature as cfeature\n",
    "import cartopy.crs as ccrs\n",
    "import cmocean\n",
    "import numba as nb"
   ]
  },
  {
   "cell_type": "code",
   "execution_count": 2,
   "id": "be0f5254-b457-4c69-ae6a-e2b93455a20b",
   "metadata": {},
   "outputs": [],
   "source": [
    "import sys\n",
    "sys.path.append('/nexsan/people/pmiron/projects_mars/HYCOM-utilities/python/')\n",
    "import hycom.io as hio"
   ]
  },
  {
   "cell_type": "code",
   "execution_count": 3,
   "id": "e5ffdd69-d736-4a76-b4fa-eb8c168b2cd1",
   "metadata": {},
   "outputs": [],
   "source": [
    "caribbean_countries = [ # countries\n",
    "    'Antigua and Barbuda', 'Bahamas', 'Barbados',\n",
    "    'Cuba', 'Dominica', 'Dominican Republic',\n",
    "    'Grenada', 'Haiti', 'Jamaica', 'Saint Kitts and Nevis',\n",
    "    'Saint Lucia', 'Saint Vincent and the Grenadines',\n",
    "    'Trinidad and Tobago',\n",
    "    # dependant teritory\n",
    "    'Anguilla', 'Aruba',\n",
    "    'Bonaire, Sint Eustatius and Saba',\n",
    "    'British Virgin Islands', 'Cayman Islands',\n",
    "    'Curaçao', 'Guadeloupe', 'Martinique',\n",
    "    'Montserrat', 'Puerto Rico', 'Saint-Barthélemy',\n",
    "    'Saint-Martin', 'Sint Maarten',\n",
    "    'Turks and Caicos Islands', 'Virgin Islands, U.S.',\n",
    "    # other countries\n",
    "    'Mexico', 'United States', 'Venezuela', 'Belize', 'Colombia',\n",
    "    'Costa Rica', 'Guatemala', 'Guyana', 'Honduras', 'Nicaragua', 'Panama',\n",
    "    'Suriname']"
   ]
  },
  {
   "cell_type": "markdown",
   "id": "8332595c-ec60-4320-a493-cabd32073b5e",
   "metadata": {},
   "source": [
    "# Dataframe with MPW estimates from Jambeck et al"
   ]
  },
  {
   "cell_type": "code",
   "execution_count": 4,
   "id": "e1d87e16-8292-4779-8b29-c6fa6b3c0b4d",
   "metadata": {},
   "outputs": [],
   "source": [
    "xc = np.array([-51.6, -76.8, -78, -79.3, -81, -82.7, -87.3, -98.5, -98.5, -66.7, -51.6, -51.6])\n",
    "yc = np.array([3.5, 7, 8.6, 9.2, 8.2, 8.8, 14.8, 19.0, 31.0, 31.0, 31.0, 3.9])\n",
    "p = path.Path(np.vstack((xc, yc)).T)\n",
    "    \n",
    "def caribbean_filter(x, y):\n",
    "    '''\n",
    "    Return mask to filter particles on the Pacific Ocean coast    \n",
    "    '''\n",
    "    return p.contains_points(np.column_stack((x, y)))\n",
    "\n",
    "def gridcell_country(c_id):\n",
    "    '''\n",
    "    Return (qlon, qlat) of gridcell of a given country\n",
    "    '''\n",
    "    with xr.open_dataset('../data/process/country_GLBv0.08.nc') as ds:\n",
    "        plon = ds.plon\n",
    "        plat = ds.plat\n",
    "        \n",
    "        ocean_coast = (ds.ocean_coastlines_country == c_id)\n",
    "        j, i = np.where(ocean_coast)\n",
    "        return i, j, plon[i], plat[j]    "
   ]
  },
  {
   "cell_type": "code",
   "execution_count": 1,
   "id": "b02a4f65-f884-4713-9eb3-122c91004f79",
   "metadata": {},
   "outputs": [
    {
     "ename": "NameError",
     "evalue": "name 'plt' is not defined",
     "output_type": "error",
     "traceback": [
      "\u001b[0;31m---------------------------------------------------------------------------\u001b[0m",
      "\u001b[0;31mNameError\u001b[0m                                 Traceback (most recent call last)",
      "Cell \u001b[0;32mIn[1], line 2\u001b[0m\n\u001b[1;32m      1\u001b[0m \u001b[38;5;66;03m# uniform mpw in the region\u001b[39;00m\n\u001b[0;32m----> 2\u001b[0m fig \u001b[38;5;241m=\u001b[39m \u001b[43mplt\u001b[49m\u001b[38;5;241m.\u001b[39mfigure(dpi\u001b[38;5;241m=\u001b[39m\u001b[38;5;241m300\u001b[39m)\n\u001b[1;32m      3\u001b[0m ax \u001b[38;5;241m=\u001b[39m fig\u001b[38;5;241m.\u001b[39madd_subplot(\u001b[38;5;241m1\u001b[39m,\u001b[38;5;241m1\u001b[39m,\u001b[38;5;241m1\u001b[39m,aspect\u001b[38;5;241m=\u001b[39m\u001b[38;5;124m'\u001b[39m\u001b[38;5;124mequal\u001b[39m\u001b[38;5;124m'\u001b[39m, projection\u001b[38;5;241m=\u001b[39mccrs\u001b[38;5;241m.\u001b[39mPlateCarree())\n\u001b[1;32m      5\u001b[0m c_id \u001b[38;5;241m=\u001b[39m \u001b[38;5;241m29\u001b[39m  \u001b[38;5;66;03m# mexico 28, usa 29\u001b[39;00m\n",
      "\u001b[0;31mNameError\u001b[0m: name 'plt' is not defined"
     ]
    }
   ],
   "source": [
    "# uniform mpw in the region\n",
    "fig = plt.figure(dpi=300)\n",
    "ax = fig.add_subplot(1,1,1,aspect='equal', projection=ccrs.PlateCarree())\n",
    "\n",
    "c_id = 29  # mexico 28, usa 29\n",
    "i,j,x,y = gridcell_country(c_id)\n",
    "\n",
    "ax.scatter(x, y, s=0.5, transform=ccrs.PlateCarree())\n",
    "\n",
    "ax.add_feature(cfeature.COASTLINE, linewidth=0.1, zorder=1)"
   ]
  },
  {
   "cell_type": "markdown",
   "id": "8d524703-fdd8-4f21-bd1a-ddd2dc609389",
   "metadata": {},
   "source": [
    "# Generate particles uniformly for each country around the coastline"
   ]
  },
  {
   "cell_type": "code",
   "execution_count": null,
   "id": "24cb948f-2f4e-423e-8544-d70d40d29f07",
   "metadata": {},
   "outputs": [],
   "source": [
    "ds = xr.open_dataset('../data/process/country_GLBv0.08.nc')\n",
    "qlon = ds.qlon.values\n",
    "qlat = ds.qlat.values\n",
    "ds.close()\n",
    "\n",
    "np.random.seed(42)\n",
    "coast_x = []; coast_y = []; coast_cid = []\n",
    "\n",
    "n = 5  # constant number of particles\n",
    "\n",
    "for c_id in range(0, len(caribbean_countries)):    \n",
    "    i,j,plon,plat = gridcell_country(c_id)\n",
    "    k = caribbean_filter(plon,plat)\n",
    "    i,j,plon,plat = i[k],j[k],plon[k],plat[k]  \n",
    "\n",
    "    for i,j in zip(i,j):\n",
    "        dx = qlon[i+1] - qlon[i]\n",
    "        dy = qlat[j+1] - qlat[j]\n",
    "\n",
    "        coast_x.append(qlon[i] + np.random.random_sample(n) * dx)\n",
    "        coast_y.append(qlat[j] + np.random.random_sample(n) * dy)\n",
    "        coast_cid.append(np.full(n, c_id, dtype='int'))\n",
    "            \n",
    "coast_x = np.hstack(coast_x)\n",
    "coast_y = np.hstack(coast_y)\n",
    "coast_cid = np.hstack(coast_cid)"
   ]
  },
  {
   "cell_type": "code",
   "execution_count": null,
   "id": "68b2ba04-4dee-4a71-8926-e68d2e16588b",
   "metadata": {},
   "outputs": [],
   "source": [
    "print(f'A total of {len(coast_x)} uniform particles.')"
   ]
  },
  {
   "cell_type": "code",
   "execution_count": null,
   "id": "7de8b2ac-d1b9-420b-be64-85ecc8dc28f2",
   "metadata": {},
   "outputs": [],
   "source": [
    "land = xr.open_dataset('../data/process/land_GLBv0.08.nc').land.values\n",
    "qlon = xr.open_dataset('../data/process/land_GLBv0.08.nc').qlon.values \n",
    "qlat = xr.open_dataset('../data/process/land_GLBv0.08.nc').qlat.values "
   ]
  },
  {
   "cell_type": "code",
   "execution_count": null,
   "id": "d8357cb0-e866-4d32-b215-d829cccaf33b",
   "metadata": {},
   "outputs": [],
   "source": [
    "fig = plt.figure(dpi=300)\n",
    "ax = fig.add_subplot(1,1,1,aspect='equal', projection=ccrs.PlateCarree())\n",
    "\n",
    "c_id = 0\n",
    "r = np.where(coast_cid == c_id)[0]\n",
    "\n",
    "ax.pcolormesh(qlon, qlat, land, transform=ccrs.PlateCarree(), cmap='binary')\n",
    "ax.scatter(coast_x[r], coast_y[r], s=0.5, transform=ccrs.PlateCarree())\n",
    "\n",
    "ax.set_xlim(np.min(coast_x[r]), np.max(coast_x[r]))\n",
    "ax.set_ylim(np.min(coast_y[r]), np.max(coast_y[r]))\n",
    "\n",
    "ax.add_feature(cfeature.COASTLINE, linewidth=0.1, zorder=1)"
   ]
  },
  {
   "cell_type": "markdown",
   "id": "ad2a164a-410f-486d-bd60-7b8146140338",
   "metadata": {},
   "source": [
    "# Export csv per country"
   ]
  },
  {
   "cell_type": "code",
   "execution_count": 24,
   "id": "0f3320f8-7a2a-47c3-be10-4f985c96db61",
   "metadata": {},
   "outputs": [],
   "source": [
    "# coast\n",
    "df_c = pd.DataFrame({\n",
    "    'longitude': coast_x,\n",
    "    'latitude': coast_y,\n",
    "    'country id': coast_cid,\n",
    "    })\n",
    "\n",
    "output_folder = '../data/process/'\n",
    "df_c.to_csv(join(output_folder, f\"coasts_uniform.csv\"), index=False)"
   ]
  },
  {
   "cell_type": "code",
   "execution_count": 22,
   "id": "585be408-095d-46f3-978f-57d8744bcfa8",
   "metadata": {},
   "outputs": [],
   "source": [
    "for i, c in enumerate(caribbean_countries):\n",
    "    r = np.where(coast_cid == i)\n",
    "\n",
    "    # coast\n",
    "    df_c = pd.DataFrame({\n",
    "        'longitude': coast_x[r],\n",
    "        'latitude': coast_y[r],\n",
    "        'country id': coast_cid[r],\n",
    "        })\n",
    "    \n",
    "    output_folder = '../data/process/uniform_per_country'\n",
    "    df_c.to_csv(join(output_folder, f\"c{i:02d}_{c.replace(',', '').lower().replace(' ', '-')}.csv\"), index=False)"
   ]
  }
 ],
 "metadata": {
  "kernelspec": {
   "display_name": "research",
   "language": "python",
   "name": "research"
  },
  "language_info": {
   "codemirror_mode": {
    "name": "ipython",
    "version": 3
   },
   "file_extension": ".py",
   "mimetype": "text/x-python",
   "name": "python",
   "nbconvert_exporter": "python",
   "pygments_lexer": "ipython3",
   "version": "3.11.0"
  }
 },
 "nbformat": 4,
 "nbformat_minor": 5
}
