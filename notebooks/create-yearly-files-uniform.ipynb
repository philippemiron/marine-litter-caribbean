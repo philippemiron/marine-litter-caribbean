{
 "cells": [
  {
   "cell_type": "code",
   "execution_count": 1,
   "id": "6d528651-e770-45ce-8265-0bda948de942",
   "metadata": {
    "tags": []
   },
   "outputs": [],
   "source": [
    "import numpy as np\n",
    "import xarray as xr\n",
    "import pandas as pd\n",
    "import glob\n",
    "from os.path import join, basename\n",
    "from datetime import datetime\n",
    "import requests"
   ]
  },
  {
   "cell_type": "code",
   "execution_count": 2,
   "id": "cf94e2b8-e79e-4761-9aaa-e36be1ff5a40",
   "metadata": {
    "tags": []
   },
   "outputs": [],
   "source": [
    "# everything in the output folder will be store in the Zenodo dataset\n",
    "ofolder = \"../data/output/cm_uniform/yearly\""
   ]
  },
  {
   "cell_type": "markdown",
   "id": "87508910-29b0-469c-84d2-09af414d0fdc",
   "metadata": {
    "tags": []
   },
   "source": [
    "# MPW global model initial locations"
   ]
  },
  {
   "cell_type": "markdown",
   "id": "ce9435d5-12c9-498a-bc91-769b769258ed",
   "metadata": {
    "jp-MarkdownHeadingCollapsed": true,
    "tags": []
   },
   "source": [
    "### Coasts"
   ]
  },
  {
   "cell_type": "code",
   "execution_count": 15,
   "id": "dafa9765-0f88-4d42-a409-f6fc6ac21bfd",
   "metadata": {},
   "outputs": [],
   "source": [
    "folder = \"sources\"\n",
    "\n",
    "csv_files = [\n",
    "    join(folder, \"coasts_all_x.csv\"),\n",
    "    join(folder, \"coasts_all_y.csv\"),\n",
    "    join(folder, \"coasts_all_w.csv\"),\n",
    "]\n",
    "\n",
    "df = pd.concat([pd.read_csv(file, header=None) for file in csv_files], axis=1)\n",
    "df.columns = [\"longitude\", \"latitude\", \"weight [ton]\"]\n",
    "df[\"weight [ton]\"] /= 12  # monthly value\n",
    "df[\"source [1:land, 0:river]\"] = np.ones(len(df), dtype=\"int\")"
   ]
  },
  {
   "cell_type": "code",
   "execution_count": 16,
   "id": "c03dc73c-426d-48ff-aa8c-1673b3168440",
   "metadata": {},
   "outputs": [
    {
     "data": {
      "text/html": [
       "<div>\n",
       "<style scoped>\n",
       "    .dataframe tbody tr th:only-of-type {\n",
       "        vertical-align: middle;\n",
       "    }\n",
       "\n",
       "    .dataframe tbody tr th {\n",
       "        vertical-align: top;\n",
       "    }\n",
       "\n",
       "    .dataframe thead th {\n",
       "        text-align: right;\n",
       "    }\n",
       "</style>\n",
       "<table border=\"1\" class=\"dataframe\">\n",
       "  <thead>\n",
       "    <tr style=\"text-align: right;\">\n",
       "      <th></th>\n",
       "      <th>longitude</th>\n",
       "      <th>latitude</th>\n",
       "      <th>weight [ton]</th>\n",
       "      <th>source [1:land, 0:river]</th>\n",
       "    </tr>\n",
       "  </thead>\n",
       "  <tbody>\n",
       "    <tr>\n",
       "      <th>0</th>\n",
       "      <td>-175.4962</td>\n",
       "      <td>-21.2593</td>\n",
       "      <td>0.998492</td>\n",
       "      <td>1</td>\n",
       "    </tr>\n",
       "    <tr>\n",
       "      <th>1</th>\n",
       "      <td>-175.5369</td>\n",
       "      <td>-21.0527</td>\n",
       "      <td>2.214808</td>\n",
       "      <td>1</td>\n",
       "    </tr>\n",
       "    <tr>\n",
       "      <th>2</th>\n",
       "      <td>-174.8840</td>\n",
       "      <td>-21.1788</td>\n",
       "      <td>4.810267</td>\n",
       "      <td>1</td>\n",
       "    </tr>\n",
       "    <tr>\n",
       "      <th>3</th>\n",
       "      <td>-175.0601</td>\n",
       "      <td>-20.9595</td>\n",
       "      <td>1.174325</td>\n",
       "      <td>1</td>\n",
       "    </tr>\n",
       "    <tr>\n",
       "      <th>4</th>\n",
       "      <td>-174.8540</td>\n",
       "      <td>-21.2223</td>\n",
       "      <td>1.127658</td>\n",
       "      <td>1</td>\n",
       "    </tr>\n",
       "  </tbody>\n",
       "</table>\n",
       "</div>"
      ],
      "text/plain": [
       "   longitude  latitude  weight [ton]  source [1:land, 0:river]\n",
       "0  -175.4962  -21.2593      0.998492                         1\n",
       "1  -175.5369  -21.0527      2.214808                         1\n",
       "2  -174.8840  -21.1788      4.810267                         1\n",
       "3  -175.0601  -20.9595      1.174325                         1\n",
       "4  -174.8540  -21.2223      1.127658                         1"
      ]
     },
     "execution_count": 16,
     "metadata": {},
     "output_type": "execute_result"
    }
   ],
   "source": [
    "df.head()"
   ]
  },
  {
   "cell_type": "markdown",
   "id": "fd23cbf9-ec80-484f-b888-e7b6e4188d02",
   "metadata": {
    "jp-MarkdownHeadingCollapsed": true,
    "tags": []
   },
   "source": [
    "### Rivers"
   ]
  },
  {
   "cell_type": "code",
   "execution_count": 17,
   "id": "90b731bd-54e0-460f-8a8f-fe5a34cda8dc",
   "metadata": {},
   "outputs": [],
   "source": [
    "csv_files = [\n",
    "    join(folder, \"rivers_all_x.csv\"),\n",
    "    join(folder, \"rivers_all_y.csv\"),\n",
    "    join(folder, \"rivers_all_w.csv\"),\n",
    "]\n",
    "\n",
    "df_r = pd.concat([pd.read_csv(file, header=None) for file in csv_files], axis=1)\n",
    "df_r.columns = [\"longitude\", \"latitude\", \"weight [ton]\"]\n",
    "df_r[\"weight [ton]\"] /= 12  # monthly value\n",
    "df_r[\"source [1:land, 0:river]\"] = np.zeros(len(df_r), dtype=\"int\")"
   ]
  },
  {
   "cell_type": "code",
   "execution_count": 18,
   "id": "edd3d233-d3bc-4f4f-9cb6-c517c27c56c7",
   "metadata": {},
   "outputs": [
    {
     "data": {
      "text/html": [
       "<div>\n",
       "<style scoped>\n",
       "    .dataframe tbody tr th:only-of-type {\n",
       "        vertical-align: middle;\n",
       "    }\n",
       "\n",
       "    .dataframe tbody tr th {\n",
       "        vertical-align: top;\n",
       "    }\n",
       "\n",
       "    .dataframe thead th {\n",
       "        text-align: right;\n",
       "    }\n",
       "</style>\n",
       "<table border=\"1\" class=\"dataframe\">\n",
       "  <thead>\n",
       "    <tr style=\"text-align: right;\">\n",
       "      <th></th>\n",
       "      <th>longitude</th>\n",
       "      <th>latitude</th>\n",
       "      <th>weight [ton]</th>\n",
       "      <th>source [1:land, 0:river]</th>\n",
       "    </tr>\n",
       "  </thead>\n",
       "  <tbody>\n",
       "    <tr>\n",
       "      <th>0</th>\n",
       "      <td>3.8659</td>\n",
       "      <td>37.1401</td>\n",
       "      <td>1.065275</td>\n",
       "      <td>0</td>\n",
       "    </tr>\n",
       "    <tr>\n",
       "      <th>1</th>\n",
       "      <td>5.9465</td>\n",
       "      <td>37.0161</td>\n",
       "      <td>2.923875</td>\n",
       "      <td>0</td>\n",
       "    </tr>\n",
       "    <tr>\n",
       "      <th>2</th>\n",
       "      <td>7.8943</td>\n",
       "      <td>37.1285</td>\n",
       "      <td>1.035375</td>\n",
       "      <td>0</td>\n",
       "    </tr>\n",
       "    <tr>\n",
       "      <th>3</th>\n",
       "      <td>3.6030</td>\n",
       "      <td>37.0258</td>\n",
       "      <td>2.394083</td>\n",
       "      <td>0</td>\n",
       "    </tr>\n",
       "    <tr>\n",
       "      <th>4</th>\n",
       "      <td>3.1497</td>\n",
       "      <td>37.0693</td>\n",
       "      <td>1.046875</td>\n",
       "      <td>0</td>\n",
       "    </tr>\n",
       "    <tr>\n",
       "      <th>...</th>\n",
       "      <td>...</td>\n",
       "      <td>...</td>\n",
       "      <td>...</td>\n",
       "      <td>...</td>\n",
       "    </tr>\n",
       "    <tr>\n",
       "      <th>3582</th>\n",
       "      <td>91.3428</td>\n",
       "      <td>22.2389</td>\n",
       "      <td>118.788333</td>\n",
       "      <td>0</td>\n",
       "    </tr>\n",
       "    <tr>\n",
       "      <th>3583</th>\n",
       "      <td>91.3840</td>\n",
       "      <td>22.2174</td>\n",
       "      <td>118.788333</td>\n",
       "      <td>0</td>\n",
       "    </tr>\n",
       "    <tr>\n",
       "      <th>3584</th>\n",
       "      <td>91.3574</td>\n",
       "      <td>22.2282</td>\n",
       "      <td>118.788333</td>\n",
       "      <td>0</td>\n",
       "    </tr>\n",
       "    <tr>\n",
       "      <th>3585</th>\n",
       "      <td>91.3282</td>\n",
       "      <td>22.2190</td>\n",
       "      <td>118.788333</td>\n",
       "      <td>0</td>\n",
       "    </tr>\n",
       "    <tr>\n",
       "      <th>3586</th>\n",
       "      <td>91.3577</td>\n",
       "      <td>22.2459</td>\n",
       "      <td>118.788333</td>\n",
       "      <td>0</td>\n",
       "    </tr>\n",
       "  </tbody>\n",
       "</table>\n",
       "<p>3587 rows × 4 columns</p>\n",
       "</div>"
      ],
      "text/plain": [
       "      longitude  latitude  weight [ton]  source [1:land, 0:river]\n",
       "0        3.8659   37.1401      1.065275                         0\n",
       "1        5.9465   37.0161      2.923875                         0\n",
       "2        7.8943   37.1285      1.035375                         0\n",
       "3        3.6030   37.0258      2.394083                         0\n",
       "4        3.1497   37.0693      1.046875                         0\n",
       "...         ...       ...           ...                       ...\n",
       "3582    91.3428   22.2389    118.788333                         0\n",
       "3583    91.3840   22.2174    118.788333                         0\n",
       "3584    91.3574   22.2282    118.788333                         0\n",
       "3585    91.3282   22.2190    118.788333                         0\n",
       "3586    91.3577   22.2459    118.788333                         0\n",
       "\n",
       "[3587 rows x 4 columns]"
      ]
     },
     "execution_count": 18,
     "metadata": {},
     "output_type": "execute_result"
    }
   ],
   "source": [
    "df_r"
   ]
  },
  {
   "cell_type": "code",
   "execution_count": 19,
   "id": "4f7d1786-508d-4512-866a-64ad02be141b",
   "metadata": {},
   "outputs": [],
   "source": [
    "# save global initial release to one csv\n",
    "pd.concat((df, df_r), axis=0).to_csv(\n",
    "    join(ofolder, \"initial-locations-global.csv\"), index=False\n",
    ")"
   ]
  },
  {
   "cell_type": "code",
   "execution_count": 21,
   "id": "186092da-e8ab-4a28-9d53-d08964b20af1",
   "metadata": {},
   "outputs": [
    {
     "data": {
      "text/plain": [
       "6435944.4616"
      ]
     },
     "execution_count": 21,
     "metadata": {},
     "output_type": "execute_result"
    }
   ],
   "source": [
    "np.sum(df[\"weight [ton]\"]) + np.sum(df_r[\"weight [ton]\"])"
   ]
  },
  {
   "cell_type": "markdown",
   "id": "75d36689-cd5d-499b-8d90-adabe0a66002",
   "metadata": {},
   "source": [
    "# Yearly files"
   ]
  },
  {
   "cell_type": "code",
   "execution_count": 3,
   "id": "f0e362d0-1f9b-4a04-b5e5-8584f2f476bc",
   "metadata": {
    "tags": []
   },
   "outputs": [],
   "source": [
    "# merge release into year to reduce the number of files\n",
    "folder = \"../data/output/cm_uniform/\""
   ]
  },
  {
   "cell_type": "code",
   "execution_count": 4,
   "id": "494360e9-0c64-4285-8f2b-0082d07eb607",
   "metadata": {
    "tags": []
   },
   "outputs": [],
   "source": [
    "release_folder = (\n",
    "    \"/nexsan/people/pmiron/projects_mars/caribbean-marine-litter/notebooks/releases\"\n",
    ")\n",
    "\n",
    "\n",
    "def particle_per_year(year):\n",
    "    nb_particles = []\n",
    "    for m in range(1, 13):\n",
    "        file = f\"particles_info_{year}{m:02d}01.csv\"\n",
    "        df = pd.read_csv(f\"{release_folder}/{file}\")\n",
    "        nb_particles.append(len(df))\n",
    "    return nb_particles"
   ]
  },
  {
   "cell_type": "code",
   "execution_count": 8,
   "id": "fd8d02bf-ef49-4c99-8cf2-23380fca86b5",
   "metadata": {
    "tags": []
   },
   "outputs": [
    {
     "name": "stdout",
     "output_type": "stream",
     "text": [
      "2010/12\r"
     ]
    }
   ],
   "source": [
    "for year in range(2010, 2011):\n",
    "    # monthly files for year\n",
    "    files = sorted(glob.glob(join(folder, f\"*{year}*\")))\n",
    "\n",
    "    # particle per monthly release\n",
    "    nb_particles = len(pd.read_csv(f\"{release_folder}/particles_info_uniform.csv\"))\n",
    "\n",
    "    # read first file to create the dimension\n",
    "    df = xr.open_dataset(files[0])\n",
    "    time = np.arange(0, df.dims[\"obs\"], dtype=\"int16\")\n",
    "    lon = np.full((nb_particles * 12, df.dims[\"obs\"]), np.nan, dtype=\"float32\")\n",
    "    lat = np.full((nb_particles * 12, df.dims[\"obs\"]), np.nan, dtype=\"float32\")\n",
    "    df.close()\n",
    "\n",
    "    id0 = 0\n",
    "    for i, f in enumerate(files):\n",
    "        print(f\"{year}/{i+1:02d}\", end=\"\\r\")\n",
    "\n",
    "        df = xr.open_dataset(f)\n",
    "\n",
    "        # offset for monthly releases\n",
    "        i_range = np.arange(id0, id0 + nb_particles)\n",
    "        j_offset = len(time) - df.dims[\"obs\"]\n",
    "\n",
    "        lon[i_range, j_offset:] = df.lon\n",
    "        lat[i_range, j_offset:] = df.lat\n",
    "\n",
    "        df.close()\n",
    "        id0 += nb_particles\n",
    "\n",
    "    # create and save yearly netCDF\n",
    "    xr.Dataset(\n",
    "        data_vars=dict(\n",
    "            # position and velocity\n",
    "            lon=(\n",
    "                [\"traj\", \"obs\"],\n",
    "                lon,\n",
    "                {\"long_name\": \"longitude\", \"units\": \"degrees_east\"},\n",
    "            ),\n",
    "            lat=(\n",
    "                [\"traj\", \"obs\"],\n",
    "                lat,\n",
    "                {\"long_name\": \"latitude\", \"units\": \"degrees_north\"},\n",
    "            ),\n",
    "        ),\n",
    "        coords=dict(\n",
    "            time=(\n",
    "                [\"obs\"],\n",
    "                time,\n",
    "                {\"long_name\": \"time\", \"units\": f\"days since {year}-01-01\"},\n",
    "            ),\n",
    "        ),\n",
    "        attrs={\n",
    "            \"title\": \"Caribbean Marine Litter trajectories\",\n",
    "            \"description\": f\"Combined monthly releases for {year}.\",\n",
    "            \"institution\": \"FLorida State University Center for Ocean-Atmospheric Prediction Studies (COAPS)\",\n",
    "            \"references\": \"P. Miron, X. Xu, O. Zavala-Romero, and Eric Chassignet, Seasonality of Marine Litter Hotspots in the Wider Caribbean Region\",\n",
    "            \"date_created\": datetime.now().isoformat(),\n",
    "        },\n",
    "    ).to_netcdf(f\"{ofolder}/caribbean-marine-litter-uniform-{year}.nc\")"
   ]
  },
  {
   "cell_type": "code",
   "execution_count": null,
   "id": "756dd684-d2fe-4755-aa5c-a8c6d3db8a74",
   "metadata": {
    "tags": []
   },
   "outputs": [],
   "source": [
    "xr.open_dataset(f\"{ofolder}/caribbean-marine-litter-uniform-2010.nc\")"
   ]
  },
  {
   "cell_type": "markdown",
   "id": "40af3025-f9a0-4744-8fb3-87a6421125f2",
   "metadata": {},
   "source": [
    "# Upload to Zenodo"
   ]
  },
  {
   "cell_type": "code",
   "execution_count": 9,
   "id": "51ff459e-b9e1-4567-8eda-97110815a4fc",
   "metadata": {
    "tags": []
   },
   "outputs": [
    {
     "data": {
      "text/plain": [
       "200"
      ]
     },
     "execution_count": 9,
     "metadata": {},
     "output_type": "execute_result"
    }
   ],
   "source": [
    "ACCESS_TOKEN = \"8FTulDI1pqIgwcNxhgvgDdBplwhlqPXHX3iDAigKISz4brFnDaWvTY3jBGvl\"\n",
    "\n",
    "headers = {\"Content-Type\": \"application/json\"}\n",
    "params = {\"access_token\": ACCESS_TOKEN}\n",
    "\n",
    "r = requests.get(\"https://zenodo.org/api/deposit/depositions\", params=params)\n",
    "\n",
    "r.status_code"
   ]
  },
  {
   "cell_type": "code",
   "execution_count": 11,
   "id": "8fbfc1de-d13e-4db7-a631-12781a3078d6",
   "metadata": {
    "tags": []
   },
   "outputs": [
    {
     "data": {
      "text/plain": [
       "{'self': 'https://zenodo.org/api/records/10347216',\n",
       " 'html': 'https://zenodo.org/records/10347216',\n",
       " 'doi': 'https://doi.org/10.5281/zenodo.10347216',\n",
       " 'badge': 'https://zenodo.org/badge/doi/10.5281%2Fzenodo.10347216.svg',\n",
       " 'files': 'https://zenodo.org/api/records/10347216/files',\n",
       " 'latest_draft': 'https://zenodo.org/api/deposit/depositions/10347216',\n",
       " 'latest_draft_html': 'https://zenodo.org/deposit/10347216',\n",
       " 'publish': 'https://zenodo.org/api/deposit/depositions/10347216/actions/publish',\n",
       " 'edit': 'https://zenodo.org/api/deposit/depositions/10347216/actions/edit',\n",
       " 'discard': 'https://zenodo.org/api/deposit/depositions/10347216/actions/discard',\n",
       " 'newversion': 'https://zenodo.org/api/deposit/depositions/10347216/actions/newversion',\n",
       " 'registerconceptdoi': 'https://zenodo.org/api/deposit/depositions/10347216/actions/registerconceptdoi'}"
      ]
     },
     "execution_count": 11,
     "metadata": {},
     "output_type": "execute_result"
    }
   ],
   "source": [
    "r.json()[0][\"links\"]"
   ]
  },
  {
   "cell_type": "code",
   "execution_count": 18,
   "id": "cf77b0e8-75c3-41fd-8006-96eb8c507fd6",
   "metadata": {},
   "outputs": [],
   "source": [
    "# had to upload once with the old API to make the 'bucket' link appear\n",
    "# hopefully they fix this issue soon https://github.com/zenodo/zenodo/issues/2286\n",
    "bucket_url = r.json()[0][\"links\"][\"bucket\"]"
   ]
  },
  {
   "cell_type": "code",
   "execution_count": 19,
   "id": "9cd54e54-6a89-4b70-9041-f4d1ff9febed",
   "metadata": {},
   "outputs": [
    {
     "data": {
      "text/plain": [
       "'https://zenodo.org/api/files/bd9565ab-d00d-4ec9-82e8-312fb7b7f0c5'"
      ]
     },
     "execution_count": 19,
     "metadata": {},
     "output_type": "execute_result"
    }
   ],
   "source": [
    "bucket_url"
   ]
  },
  {
   "cell_type": "code",
   "execution_count": null,
   "id": "3c05bc2c-4256-4d02-a3ed-ba2620c6b603",
   "metadata": {},
   "outputs": [],
   "source": [
    "files = sorted(glob.glob(\"yearly/*\"))"
   ]
  },
  {
   "cell_type": "code",
   "execution_count": 20,
   "id": "5c930511-5954-44e4-bd16-414c7adb4f7f",
   "metadata": {},
   "outputs": [],
   "source": [
    "files = sorted(glob.glob(\"yearly/*\"))"
   ]
  },
  {
   "cell_type": "code",
   "execution_count": 35,
   "id": "b57aea22-6baa-4694-8241-78e5abdeb89b",
   "metadata": {},
   "outputs": [
    {
     "name": "stdout",
     "output_type": "stream",
     "text": [
      "Uploading yearly/global-marine-litter-2013.nc.\n",
      "Uploading yearly/global-marine-litter-2014.nc.\n",
      "Uploading yearly/global-marine-litter-2015.nc.\n",
      "Uploading yearly/global-marine-litter-2016.nc.\n",
      "Uploading yearly/global-marine-litter-2017.nc.\n",
      "Uploading yearly/global-marine-litter-2018.nc.\n",
      "Uploading yearly/global-marine-litter-2019.nc.\n",
      "Uploading yearly/global-marine-litter-2020.nc.\n",
      "Uploading yearly/global-marine-litter-2021.nc.\n",
      "Uploading yearly/initial-locations-global.csv.\n"
     ]
    }
   ],
   "source": [
    "# API\n",
    "for file in files:\n",
    "    print(f\"Uploading {file}.\")\n",
    "    # The target URL is a combination of the bucket link with the desired filename\n",
    "    # seperated by a slash.\n",
    "    with open(file, \"rb\") as fp:\n",
    "        r = requests.put(\n",
    "            \"%s/%s\" % (bucket_url, basename(file)),\n",
    "            data=fp,\n",
    "            params=params,\n",
    "        )\n",
    "    r.json()"
   ]
  },
  {
   "cell_type": "code",
   "execution_count": null,
   "id": "4d315445-db3f-4547-99c3-01c285b3d2e7",
   "metadata": {},
   "outputs": [],
   "source": []
  }
 ],
 "metadata": {
  "kernelspec": {
   "display_name": "research",
   "language": "python",
   "name": "research"
  },
  "language_info": {
   "codemirror_mode": {
    "name": "ipython",
    "version": 3
   },
   "file_extension": ".py",
   "mimetype": "text/x-python",
   "name": "python",
   "nbconvert_exporter": "python",
   "pygments_lexer": "ipython3",
   "version": "3.11.0"
  }
 },
 "nbformat": 4,
 "nbformat_minor": 5
}
