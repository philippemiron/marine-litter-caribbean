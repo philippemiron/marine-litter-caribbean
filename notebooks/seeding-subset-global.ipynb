{
 "cells": [
  {
   "cell_type": "markdown",
   "id": "168e74c9-2d2c-451b-8d6f-1b473df29753",
   "metadata": {
    "tags": []
   },
   "source": [
    "# Using Xiaobiao pre-process output of the global model this script subsample to the region\n",
    "- done as a first step to setup the model\n",
    "- everything is now performed from raw data in `seeding-mpw.ipynb` and `seeding-uniform.ipynb`."
   ]
  },
  {
   "cell_type": "code",
   "execution_count": 1,
   "id": "0ef68e51-cd95-428f-aa91-a5e679e0266e",
   "metadata": {},
   "outputs": [],
   "source": [
    "import pandas as pd\n",
    "import geopandas as gpd\n",
    "import numpy as np\n",
    "import matplotlib.pyplot as plt\n",
    "from matplotlib import path, colors\n",
    "from matplotlib.collections import PatchCollection\n",
    "from matplotlib.patches import Rectangle\n",
    "import urllib.request\n",
    "import skimage.io as io\n",
    "import os\n",
    "from os.path import join\n",
    "from datetime import datetime\n",
    "import scipy as sc\n",
    "from scipy import stats\n",
    "import xarray as xr\n",
    "from scipy.interpolate import RegularGridInterpolator\n",
    "import shapely\n",
    "import cartopy.io.shapereader as shpreader\n",
    "import cmocean\n",
    "import cartopy.feature as cfeature\n",
    "import cartopy.crs as ccrs"
   ]
  },
  {
   "cell_type": "code",
   "execution_count": 2,
   "id": "bcd9f75a-8648-45d5-a50a-230cf8ac6120",
   "metadata": {},
   "outputs": [
    {
     "name": "stdout",
     "output_type": "stream",
     "text": [
      "/nexsan/people/pmiron/projects_mars/caribbean-marine-litter/notebooks\n"
     ]
    }
   ],
   "source": [
    "!pwd"
   ]
  },
  {
   "cell_type": "markdown",
   "id": "70ca4cc9-b504-4b23-85a7-e759f4fe147d",
   "metadata": {
    "tags": []
   },
   "source": [
    "## Coasts"
   ]
  },
  {
   "cell_type": "code",
   "execution_count": 3,
   "id": "f315fa73-c35a-4c42-b940-c54aa5da0cdc",
   "metadata": {},
   "outputs": [],
   "source": [
    "folder = '../data/raw/temp/'\n",
    "\n",
    "csv_files = [join(folder, 'coasts_all_x.csv'),\n",
    "             join(folder, 'coasts_all_y.csv'),\n",
    "             join(folder, 'coasts_all_w.csv')]\n",
    "\n",
    "df_c = pd.concat([pd.read_csv(file, header=None) for file in csv_files], axis=1)\n",
    "df_c.columns = ['longitude', 'latitude', 'weight [ton]']\n",
    "df_c['source [0:land, 1:river]'] = np.zeros(len(df_c), dtype='int')"
   ]
  },
  {
   "cell_type": "code",
   "execution_count": 4,
   "id": "0260955c-1aac-4caf-aed6-2aea4f1772bd",
   "metadata": {},
   "outputs": [
    {
     "data": {
      "text/html": [
       "<div>\n",
       "<style scoped>\n",
       "    .dataframe tbody tr th:only-of-type {\n",
       "        vertical-align: middle;\n",
       "    }\n",
       "\n",
       "    .dataframe tbody tr th {\n",
       "        vertical-align: top;\n",
       "    }\n",
       "\n",
       "    .dataframe thead th {\n",
       "        text-align: right;\n",
       "    }\n",
       "</style>\n",
       "<table border=\"1\" class=\"dataframe\">\n",
       "  <thead>\n",
       "    <tr style=\"text-align: right;\">\n",
       "      <th></th>\n",
       "      <th>longitude</th>\n",
       "      <th>latitude</th>\n",
       "      <th>weight [ton]</th>\n",
       "      <th>source [0:land, 1:river]</th>\n",
       "    </tr>\n",
       "  </thead>\n",
       "  <tbody>\n",
       "    <tr>\n",
       "      <th>0</th>\n",
       "      <td>-175.4962</td>\n",
       "      <td>-21.2593</td>\n",
       "      <td>11.9819</td>\n",
       "      <td>0</td>\n",
       "    </tr>\n",
       "    <tr>\n",
       "      <th>1</th>\n",
       "      <td>-175.5369</td>\n",
       "      <td>-21.0527</td>\n",
       "      <td>26.5777</td>\n",
       "      <td>0</td>\n",
       "    </tr>\n",
       "    <tr>\n",
       "      <th>2</th>\n",
       "      <td>-174.8840</td>\n",
       "      <td>-21.1788</td>\n",
       "      <td>57.7232</td>\n",
       "      <td>0</td>\n",
       "    </tr>\n",
       "    <tr>\n",
       "      <th>3</th>\n",
       "      <td>-175.0601</td>\n",
       "      <td>-20.9595</td>\n",
       "      <td>14.0919</td>\n",
       "      <td>0</td>\n",
       "    </tr>\n",
       "    <tr>\n",
       "      <th>4</th>\n",
       "      <td>-174.8540</td>\n",
       "      <td>-21.2223</td>\n",
       "      <td>13.5319</td>\n",
       "      <td>0</td>\n",
       "    </tr>\n",
       "    <tr>\n",
       "      <th>...</th>\n",
       "      <td>...</td>\n",
       "      <td>...</td>\n",
       "      <td>...</td>\n",
       "      <td>...</td>\n",
       "    </tr>\n",
       "    <tr>\n",
       "      <th>28708</th>\n",
       "      <td>120.3880</td>\n",
       "      <td>14.2541</td>\n",
       "      <td>1355.4000</td>\n",
       "      <td>0</td>\n",
       "    </tr>\n",
       "    <tr>\n",
       "      <th>28709</th>\n",
       "      <td>120.4254</td>\n",
       "      <td>14.2711</td>\n",
       "      <td>1355.4000</td>\n",
       "      <td>0</td>\n",
       "    </tr>\n",
       "    <tr>\n",
       "      <th>28710</th>\n",
       "      <td>120.4208</td>\n",
       "      <td>14.2703</td>\n",
       "      <td>1355.4000</td>\n",
       "      <td>0</td>\n",
       "    </tr>\n",
       "    <tr>\n",
       "      <th>28711</th>\n",
       "      <td>120.3807</td>\n",
       "      <td>14.2136</td>\n",
       "      <td>1355.4000</td>\n",
       "      <td>0</td>\n",
       "    </tr>\n",
       "    <tr>\n",
       "      <th>28712</th>\n",
       "      <td>120.4243</td>\n",
       "      <td>14.2127</td>\n",
       "      <td>1355.4000</td>\n",
       "      <td>0</td>\n",
       "    </tr>\n",
       "  </tbody>\n",
       "</table>\n",
       "<p>28713 rows × 4 columns</p>\n",
       "</div>"
      ],
      "text/plain": [
       "       longitude  latitude  weight [ton]  source [0:land, 1:river]\n",
       "0      -175.4962  -21.2593       11.9819                         0\n",
       "1      -175.5369  -21.0527       26.5777                         0\n",
       "2      -174.8840  -21.1788       57.7232                         0\n",
       "3      -175.0601  -20.9595       14.0919                         0\n",
       "4      -174.8540  -21.2223       13.5319                         0\n",
       "...          ...       ...           ...                       ...\n",
       "28708   120.3880   14.2541     1355.4000                         0\n",
       "28709   120.4254   14.2711     1355.4000                         0\n",
       "28710   120.4208   14.2703     1355.4000                         0\n",
       "28711   120.3807   14.2136     1355.4000                         0\n",
       "28712   120.4243   14.2127     1355.4000                         0\n",
       "\n",
       "[28713 rows x 4 columns]"
      ]
     },
     "execution_count": 4,
     "metadata": {},
     "output_type": "execute_result"
    }
   ],
   "source": [
    "df_c"
   ]
  },
  {
   "cell_type": "markdown",
   "id": "0851da40-66f4-4f73-b3db-259fc4dada21",
   "metadata": {},
   "source": [
    "## Rivers"
   ]
  },
  {
   "cell_type": "code",
   "execution_count": 5,
   "id": "9bdfc865-6347-4f2f-8849-4245fb3f7381",
   "metadata": {},
   "outputs": [],
   "source": [
    "csv_files = [join(folder, 'rivers_all_x.csv'),\n",
    "             join(folder, 'rivers_all_y.csv'),\n",
    "             join(folder, 'rivers_all_w.csv')]\n",
    "\n",
    "df_r = pd.concat([pd.read_csv(file, header=None) for file in csv_files], axis=1)\n",
    "df_r.columns = ['longitude', 'latitude', 'weight [ton]']\n",
    "df_r['source [0:land, 1:river]'] = np.ones(len(df_r), dtype='int')"
   ]
  },
  {
   "cell_type": "code",
   "execution_count": 6,
   "id": "9119d8fc-1090-49ab-9ecd-ebb239579adb",
   "metadata": {},
   "outputs": [
    {
     "data": {
      "text/html": [
       "<div>\n",
       "<style scoped>\n",
       "    .dataframe tbody tr th:only-of-type {\n",
       "        vertical-align: middle;\n",
       "    }\n",
       "\n",
       "    .dataframe tbody tr th {\n",
       "        vertical-align: top;\n",
       "    }\n",
       "\n",
       "    .dataframe thead th {\n",
       "        text-align: right;\n",
       "    }\n",
       "</style>\n",
       "<table border=\"1\" class=\"dataframe\">\n",
       "  <thead>\n",
       "    <tr style=\"text-align: right;\">\n",
       "      <th></th>\n",
       "      <th>longitude</th>\n",
       "      <th>latitude</th>\n",
       "      <th>weight [ton]</th>\n",
       "      <th>source [0:land, 1:river]</th>\n",
       "    </tr>\n",
       "  </thead>\n",
       "  <tbody>\n",
       "    <tr>\n",
       "      <th>0</th>\n",
       "      <td>3.8659</td>\n",
       "      <td>37.1401</td>\n",
       "      <td>12.7833</td>\n",
       "      <td>1</td>\n",
       "    </tr>\n",
       "    <tr>\n",
       "      <th>1</th>\n",
       "      <td>5.9465</td>\n",
       "      <td>37.0161</td>\n",
       "      <td>35.0865</td>\n",
       "      <td>1</td>\n",
       "    </tr>\n",
       "    <tr>\n",
       "      <th>2</th>\n",
       "      <td>7.8943</td>\n",
       "      <td>37.1285</td>\n",
       "      <td>12.4245</td>\n",
       "      <td>1</td>\n",
       "    </tr>\n",
       "    <tr>\n",
       "      <th>3</th>\n",
       "      <td>3.6030</td>\n",
       "      <td>37.0258</td>\n",
       "      <td>28.7290</td>\n",
       "      <td>1</td>\n",
       "    </tr>\n",
       "    <tr>\n",
       "      <th>4</th>\n",
       "      <td>3.1497</td>\n",
       "      <td>37.0693</td>\n",
       "      <td>12.5625</td>\n",
       "      <td>1</td>\n",
       "    </tr>\n",
       "    <tr>\n",
       "      <th>...</th>\n",
       "      <td>...</td>\n",
       "      <td>...</td>\n",
       "      <td>...</td>\n",
       "      <td>...</td>\n",
       "    </tr>\n",
       "    <tr>\n",
       "      <th>3582</th>\n",
       "      <td>91.3428</td>\n",
       "      <td>22.2389</td>\n",
       "      <td>1425.4600</td>\n",
       "      <td>1</td>\n",
       "    </tr>\n",
       "    <tr>\n",
       "      <th>3583</th>\n",
       "      <td>91.3840</td>\n",
       "      <td>22.2174</td>\n",
       "      <td>1425.4600</td>\n",
       "      <td>1</td>\n",
       "    </tr>\n",
       "    <tr>\n",
       "      <th>3584</th>\n",
       "      <td>91.3574</td>\n",
       "      <td>22.2282</td>\n",
       "      <td>1425.4600</td>\n",
       "      <td>1</td>\n",
       "    </tr>\n",
       "    <tr>\n",
       "      <th>3585</th>\n",
       "      <td>91.3282</td>\n",
       "      <td>22.2190</td>\n",
       "      <td>1425.4600</td>\n",
       "      <td>1</td>\n",
       "    </tr>\n",
       "    <tr>\n",
       "      <th>3586</th>\n",
       "      <td>91.3577</td>\n",
       "      <td>22.2459</td>\n",
       "      <td>1425.4600</td>\n",
       "      <td>1</td>\n",
       "    </tr>\n",
       "  </tbody>\n",
       "</table>\n",
       "<p>3587 rows × 4 columns</p>\n",
       "</div>"
      ],
      "text/plain": [
       "      longitude  latitude  weight [ton]  source [0:land, 1:river]\n",
       "0        3.8659   37.1401       12.7833                         1\n",
       "1        5.9465   37.0161       35.0865                         1\n",
       "2        7.8943   37.1285       12.4245                         1\n",
       "3        3.6030   37.0258       28.7290                         1\n",
       "4        3.1497   37.0693       12.5625                         1\n",
       "...         ...       ...           ...                       ...\n",
       "3582    91.3428   22.2389     1425.4600                         1\n",
       "3583    91.3840   22.2174     1425.4600                         1\n",
       "3584    91.3574   22.2282     1425.4600                         1\n",
       "3585    91.3282   22.2190     1425.4600                         1\n",
       "3586    91.3577   22.2459     1425.4600                         1\n",
       "\n",
       "[3587 rows x 4 columns]"
      ]
     },
     "execution_count": 6,
     "metadata": {},
     "output_type": "execute_result"
    }
   ],
   "source": [
    "df_r"
   ]
  },
  {
   "cell_type": "code",
   "execution_count": 7,
   "id": "ebd6f7c4-8a3f-4507-bbde-19bb4934b076",
   "metadata": {},
   "outputs": [],
   "source": [
    "# the country ids are based on gadm36_levels_shp country files\n",
    "csv_file = join(folder, 'country_reference_list.csv')\n",
    "df_country_ref = pd.read_csv(csv_file, header=None)\n",
    "df_country_ref.columns = ['country id', 'country']"
   ]
  },
  {
   "cell_type": "code",
   "execution_count": 8,
   "id": "259c32e9-5d57-48e7-9b6f-ad68c1810551",
   "metadata": {},
   "outputs": [
    {
     "data": {
      "text/html": [
       "<div>\n",
       "<style scoped>\n",
       "    .dataframe tbody tr th:only-of-type {\n",
       "        vertical-align: middle;\n",
       "    }\n",
       "\n",
       "    .dataframe tbody tr th {\n",
       "        vertical-align: top;\n",
       "    }\n",
       "\n",
       "    .dataframe thead th {\n",
       "        text-align: right;\n",
       "    }\n",
       "</style>\n",
       "<table border=\"1\" class=\"dataframe\">\n",
       "  <thead>\n",
       "    <tr style=\"text-align: right;\">\n",
       "      <th></th>\n",
       "      <th>country id</th>\n",
       "      <th>country</th>\n",
       "    </tr>\n",
       "  </thead>\n",
       "  <tbody>\n",
       "    <tr>\n",
       "      <th>0</th>\n",
       "      <td>1</td>\n",
       "      <td>Aruba</td>\n",
       "    </tr>\n",
       "    <tr>\n",
       "      <th>1</th>\n",
       "      <td>2</td>\n",
       "      <td>Afghanistan</td>\n",
       "    </tr>\n",
       "    <tr>\n",
       "      <th>2</th>\n",
       "      <td>3</td>\n",
       "      <td>Angola</td>\n",
       "    </tr>\n",
       "    <tr>\n",
       "      <th>3</th>\n",
       "      <td>4</td>\n",
       "      <td>Anguilla</td>\n",
       "    </tr>\n",
       "    <tr>\n",
       "      <th>4</th>\n",
       "      <td>5</td>\n",
       "      <td>Åland</td>\n",
       "    </tr>\n",
       "  </tbody>\n",
       "</table>\n",
       "</div>"
      ],
      "text/plain": [
       "   country id      country\n",
       "0           1        Aruba\n",
       "1           2  Afghanistan\n",
       "2           3       Angola\n",
       "3           4     Anguilla\n",
       "4           5        Åland"
      ]
     },
     "execution_count": 8,
     "metadata": {},
     "output_type": "execute_result"
    }
   ],
   "source": [
    "df_country_ref.head()"
   ]
  },
  {
   "cell_type": "code",
   "execution_count": 9,
   "id": "c4a6c2a6-5e4a-4fd5-948a-fd11b7b77722",
   "metadata": {},
   "outputs": [],
   "source": [
    "# country associated with particles\n",
    "csv_file = join(folder, 'dist_closest_country.csv')\n",
    "df_cc = pd.read_csv(csv_file, header=None)\n",
    "df_cc.columns = ['country id', 'distance to coast [km]']\n",
    "df_cc['country'] = df_country_ref['country'].values[df_cc['country id'] - 1]\n",
    "df_cc = df_cc[['country', 'country id', 'distance to coast [km]']]"
   ]
  },
  {
   "cell_type": "code",
   "execution_count": 10,
   "id": "54abf1a2-5d50-4562-823f-24c9caaca08b",
   "metadata": {},
   "outputs": [
    {
     "data": {
      "text/html": [
       "<div>\n",
       "<style scoped>\n",
       "    .dataframe tbody tr th:only-of-type {\n",
       "        vertical-align: middle;\n",
       "    }\n",
       "\n",
       "    .dataframe tbody tr th {\n",
       "        vertical-align: top;\n",
       "    }\n",
       "\n",
       "    .dataframe thead th {\n",
       "        text-align: right;\n",
       "    }\n",
       "</style>\n",
       "<table border=\"1\" class=\"dataframe\">\n",
       "  <thead>\n",
       "    <tr style=\"text-align: right;\">\n",
       "      <th></th>\n",
       "      <th>country</th>\n",
       "      <th>country id</th>\n",
       "      <th>distance to coast [km]</th>\n",
       "    </tr>\n",
       "  </thead>\n",
       "  <tbody>\n",
       "    <tr>\n",
       "      <th>0</th>\n",
       "      <td>Tonga</td>\n",
       "      <td>224</td>\n",
       "      <td>19.9970</td>\n",
       "    </tr>\n",
       "    <tr>\n",
       "      <th>1</th>\n",
       "      <td>Tonga</td>\n",
       "      <td>224</td>\n",
       "      <td>19.2040</td>\n",
       "    </tr>\n",
       "    <tr>\n",
       "      <th>2</th>\n",
       "      <td>Tonga</td>\n",
       "      <td>224</td>\n",
       "      <td>11.4470</td>\n",
       "    </tr>\n",
       "    <tr>\n",
       "      <th>3</th>\n",
       "      <td>Tonga</td>\n",
       "      <td>224</td>\n",
       "      <td>11.9910</td>\n",
       "    </tr>\n",
       "    <tr>\n",
       "      <th>4</th>\n",
       "      <td>Tonga</td>\n",
       "      <td>224</td>\n",
       "      <td>9.2293</td>\n",
       "    </tr>\n",
       "    <tr>\n",
       "      <th>...</th>\n",
       "      <td>...</td>\n",
       "      <td>...</td>\n",
       "      <td>...</td>\n",
       "    </tr>\n",
       "    <tr>\n",
       "      <th>32295</th>\n",
       "      <td>Bangladesh</td>\n",
       "      <td>23</td>\n",
       "      <td>15.6390</td>\n",
       "    </tr>\n",
       "    <tr>\n",
       "      <th>32296</th>\n",
       "      <td>Bangladesh</td>\n",
       "      <td>23</td>\n",
       "      <td>20.1180</td>\n",
       "    </tr>\n",
       "    <tr>\n",
       "      <th>32297</th>\n",
       "      <td>Bangladesh</td>\n",
       "      <td>23</td>\n",
       "      <td>17.2440</td>\n",
       "    </tr>\n",
       "    <tr>\n",
       "      <th>32298</th>\n",
       "      <td>Bangladesh</td>\n",
       "      <td>23</td>\n",
       "      <td>14.4360</td>\n",
       "    </tr>\n",
       "    <tr>\n",
       "      <th>32299</th>\n",
       "      <td>Bangladesh</td>\n",
       "      <td>23</td>\n",
       "      <td>17.1440</td>\n",
       "    </tr>\n",
       "  </tbody>\n",
       "</table>\n",
       "<p>32300 rows × 3 columns</p>\n",
       "</div>"
      ],
      "text/plain": [
       "          country  country id  distance to coast [km]\n",
       "0           Tonga         224                 19.9970\n",
       "1           Tonga         224                 19.2040\n",
       "2           Tonga         224                 11.4470\n",
       "3           Tonga         224                 11.9910\n",
       "4           Tonga         224                  9.2293\n",
       "...           ...         ...                     ...\n",
       "32295  Bangladesh          23                 15.6390\n",
       "32296  Bangladesh          23                 20.1180\n",
       "32297  Bangladesh          23                 17.2440\n",
       "32298  Bangladesh          23                 14.4360\n",
       "32299  Bangladesh          23                 17.1440\n",
       "\n",
       "[32300 rows x 3 columns]"
      ]
     },
     "execution_count": 10,
     "metadata": {},
     "output_type": "execute_result"
    }
   ],
   "source": [
    "df_cc"
   ]
  },
  {
   "cell_type": "code",
   "execution_count": 11,
   "id": "5669e0fd-0b88-432f-866e-2e8184bf218e",
   "metadata": {},
   "outputs": [],
   "source": [
    "# save global initial release to one csv\n",
    "df = pd.concat((df_c, df_r), axis=0)\n",
    "df = pd.concat((df.reset_index(drop=True), df_cc.reset_index(drop=True)), axis=1)\n",
    "df.to_csv(join(folder, 'initial-locations-global.csv'), index=False)"
   ]
  },
  {
   "cell_type": "code",
   "execution_count": 12,
   "id": "3934abd5-dbdd-49cc-8337-61484e8bade7",
   "metadata": {},
   "outputs": [
    {
     "data": {
      "text/html": [
       "<div>\n",
       "<style scoped>\n",
       "    .dataframe tbody tr th:only-of-type {\n",
       "        vertical-align: middle;\n",
       "    }\n",
       "\n",
       "    .dataframe tbody tr th {\n",
       "        vertical-align: top;\n",
       "    }\n",
       "\n",
       "    .dataframe thead th {\n",
       "        text-align: right;\n",
       "    }\n",
       "</style>\n",
       "<table border=\"1\" class=\"dataframe\">\n",
       "  <thead>\n",
       "    <tr style=\"text-align: right;\">\n",
       "      <th></th>\n",
       "      <th>longitude</th>\n",
       "      <th>latitude</th>\n",
       "      <th>weight [ton]</th>\n",
       "      <th>source [0:land, 1:river]</th>\n",
       "      <th>country</th>\n",
       "      <th>country id</th>\n",
       "      <th>distance to coast [km]</th>\n",
       "    </tr>\n",
       "  </thead>\n",
       "  <tbody>\n",
       "    <tr>\n",
       "      <th>0</th>\n",
       "      <td>-175.4962</td>\n",
       "      <td>-21.2593</td>\n",
       "      <td>11.9819</td>\n",
       "      <td>0</td>\n",
       "      <td>Tonga</td>\n",
       "      <td>224</td>\n",
       "      <td>19.9970</td>\n",
       "    </tr>\n",
       "    <tr>\n",
       "      <th>1</th>\n",
       "      <td>-175.5369</td>\n",
       "      <td>-21.0527</td>\n",
       "      <td>26.5777</td>\n",
       "      <td>0</td>\n",
       "      <td>Tonga</td>\n",
       "      <td>224</td>\n",
       "      <td>19.2040</td>\n",
       "    </tr>\n",
       "    <tr>\n",
       "      <th>2</th>\n",
       "      <td>-174.8840</td>\n",
       "      <td>-21.1788</td>\n",
       "      <td>57.7232</td>\n",
       "      <td>0</td>\n",
       "      <td>Tonga</td>\n",
       "      <td>224</td>\n",
       "      <td>11.4470</td>\n",
       "    </tr>\n",
       "    <tr>\n",
       "      <th>3</th>\n",
       "      <td>-175.0601</td>\n",
       "      <td>-20.9595</td>\n",
       "      <td>14.0919</td>\n",
       "      <td>0</td>\n",
       "      <td>Tonga</td>\n",
       "      <td>224</td>\n",
       "      <td>11.9910</td>\n",
       "    </tr>\n",
       "    <tr>\n",
       "      <th>4</th>\n",
       "      <td>-174.8540</td>\n",
       "      <td>-21.2223</td>\n",
       "      <td>13.5319</td>\n",
       "      <td>0</td>\n",
       "      <td>Tonga</td>\n",
       "      <td>224</td>\n",
       "      <td>9.2293</td>\n",
       "    </tr>\n",
       "    <tr>\n",
       "      <th>...</th>\n",
       "      <td>...</td>\n",
       "      <td>...</td>\n",
       "      <td>...</td>\n",
       "      <td>...</td>\n",
       "      <td>...</td>\n",
       "      <td>...</td>\n",
       "      <td>...</td>\n",
       "    </tr>\n",
       "    <tr>\n",
       "      <th>32295</th>\n",
       "      <td>91.3428</td>\n",
       "      <td>22.2389</td>\n",
       "      <td>1425.4600</td>\n",
       "      <td>1</td>\n",
       "      <td>Bangladesh</td>\n",
       "      <td>23</td>\n",
       "      <td>15.6390</td>\n",
       "    </tr>\n",
       "    <tr>\n",
       "      <th>32296</th>\n",
       "      <td>91.3840</td>\n",
       "      <td>22.2174</td>\n",
       "      <td>1425.4600</td>\n",
       "      <td>1</td>\n",
       "      <td>Bangladesh</td>\n",
       "      <td>23</td>\n",
       "      <td>20.1180</td>\n",
       "    </tr>\n",
       "    <tr>\n",
       "      <th>32297</th>\n",
       "      <td>91.3574</td>\n",
       "      <td>22.2282</td>\n",
       "      <td>1425.4600</td>\n",
       "      <td>1</td>\n",
       "      <td>Bangladesh</td>\n",
       "      <td>23</td>\n",
       "      <td>17.2440</td>\n",
       "    </tr>\n",
       "    <tr>\n",
       "      <th>32298</th>\n",
       "      <td>91.3282</td>\n",
       "      <td>22.2190</td>\n",
       "      <td>1425.4600</td>\n",
       "      <td>1</td>\n",
       "      <td>Bangladesh</td>\n",
       "      <td>23</td>\n",
       "      <td>14.4360</td>\n",
       "    </tr>\n",
       "    <tr>\n",
       "      <th>32299</th>\n",
       "      <td>91.3577</td>\n",
       "      <td>22.2459</td>\n",
       "      <td>1425.4600</td>\n",
       "      <td>1</td>\n",
       "      <td>Bangladesh</td>\n",
       "      <td>23</td>\n",
       "      <td>17.1440</td>\n",
       "    </tr>\n",
       "  </tbody>\n",
       "</table>\n",
       "<p>32300 rows × 7 columns</p>\n",
       "</div>"
      ],
      "text/plain": [
       "       longitude  latitude  weight [ton]  source [0:land, 1:river]  \\\n",
       "0      -175.4962  -21.2593       11.9819                         0   \n",
       "1      -175.5369  -21.0527       26.5777                         0   \n",
       "2      -174.8840  -21.1788       57.7232                         0   \n",
       "3      -175.0601  -20.9595       14.0919                         0   \n",
       "4      -174.8540  -21.2223       13.5319                         0   \n",
       "...          ...       ...           ...                       ...   \n",
       "32295    91.3428   22.2389     1425.4600                         1   \n",
       "32296    91.3840   22.2174     1425.4600                         1   \n",
       "32297    91.3574   22.2282     1425.4600                         1   \n",
       "32298    91.3282   22.2190     1425.4600                         1   \n",
       "32299    91.3577   22.2459     1425.4600                         1   \n",
       "\n",
       "          country  country id  distance to coast [km]  \n",
       "0           Tonga         224                 19.9970  \n",
       "1           Tonga         224                 19.2040  \n",
       "2           Tonga         224                 11.4470  \n",
       "3           Tonga         224                 11.9910  \n",
       "4           Tonga         224                  9.2293  \n",
       "...           ...         ...                     ...  \n",
       "32295  Bangladesh          23                 15.6390  \n",
       "32296  Bangladesh          23                 20.1180  \n",
       "32297  Bangladesh          23                 17.2440  \n",
       "32298  Bangladesh          23                 14.4360  \n",
       "32299  Bangladesh          23                 17.1440  \n",
       "\n",
       "[32300 rows x 7 columns]"
      ]
     },
     "execution_count": 12,
     "metadata": {},
     "output_type": "execute_result"
    }
   ],
   "source": [
    "df"
   ]
  },
  {
   "cell_type": "markdown",
   "id": "1aa3542f-9245-47a3-8c71-84061bdf4e0a",
   "metadata": {},
   "source": [
    "## Subset in the Caribbean"
   ]
  },
  {
   "cell_type": "code",
   "execution_count": 13,
   "id": "85acbbb5-9ba3-4f43-be13-dce21d71c4f3",
   "metadata": {
    "tags": []
   },
   "outputs": [],
   "source": [
    "def particles_caribbean(x, y, xc, yc):\n",
    "    \"\"\"\n",
    "    Retrieve coordinates (x,y) located inside a contour defined by (xc, yc)\n",
    "\n",
    "    Args:\n",
    "        x: longitude of coordinates\n",
    "        y: latitude of coordinates\n",
    "        xc: latitude of the contour\n",
    "        yc: longitude of the contour\n",
    "        \n",
    "    Return:\n",
    "        logical arrays len(x)\n",
    "    \"\"\"\n",
    "    p = path.Path(np.column_stack((xc, yc)))\n",
    "    return p.contains_points(np.column_stack((x, y)))\n",
    "\n",
    "xc = np.array([-51.6, -76.8, -78, -79.3, -81, -82.7, -87.3, -98.5, -98.5, -66.7, -51, -51.6])\n",
    "yc = np.array([3.9, 7, 8.6, 9.2, 8.2, 8.8, 14.8, 19.0, 31.0, 31.0, 31.0, 3.9])"
   ]
  },
  {
   "cell_type": "code",
   "execution_count": 17,
   "id": "61e8920d-468c-492a-9c5f-8bf7b36e2b92",
   "metadata": {},
   "outputs": [
    {
     "data": {
      "text/plain": [
       "<cartopy.mpl.feature_artist.FeatureArtist at 0x7fa183e80610>"
      ]
     },
     "execution_count": 17,
     "metadata": {},
     "output_type": "execute_result"
    },
    {
     "data": {
      "image/png": "[encoded data removed]",
      "text/plain": [
       "<Figure size 1800x1200 with 1 Axes>"
      ]
     },
     "metadata": {
      "needs_background": "light"
     },
     "output_type": "display_data"
    }
   ],
   "source": [
    "# uniform mpw in the region\n",
    "fig = plt.figure(dpi=300)\n",
    "ax = fig.add_subplot(1,1,1,aspect='equal', projection=ccrs.PlateCarree())\n",
    "\n",
    "ax.plot(xc, yc, transform=ccrs.PlateCarree())\n",
    "\n",
    "ax.add_feature(cfeature.COASTLINE, linewidth=0.1, zorder=1)"
   ]
  },
  {
   "cell_type": "code",
   "execution_count": 15,
   "id": "ac49224e-2afc-4ef6-ad75-248b5bb0ff76",
   "metadata": {},
   "outputs": [
    {
     "name": "stdout",
     "output_type": "stream",
     "text": [
      "domain [-98.5, -51.0] x [3.9, 31.0]\n"
     ]
    }
   ],
   "source": [
    "print(f'domain [{min(xc)}, {max(xc)}] x [{min(yc)}, {max(yc)}]')"
   ]
  },
  {
   "cell_type": "code",
   "execution_count": 15,
   "id": "748dc3c5-5777-4177-9420-6e5954dd5b9a",
   "metadata": {},
   "outputs": [],
   "source": [
    "output_folder = '../data/process/subset_release_locations'\n",
    "\n",
    "# save coasts and rivers subsets\n",
    "in_region = particles_caribbean(df.longitude, df.latitude, xc, yc)\n",
    "\n",
    "df_subset = df.loc[np.logical_and(df['source [0:land, 1:river]'] == 0, in_region)]\n",
    "df_subset.to_csv(join(output_folder, 'coasts.csv'), index=False)\n",
    "\n",
    "df_subset_r = df.loc[np.logical_and(df['source [0:land, 1:river]'] == 1, in_region)]\n",
    "df_subset_r.to_csv(join(output_folder, 'rivers.csv'), index=False)"
   ]
  },
  {
   "cell_type": "markdown",
   "id": "25882dc1-cd0f-4bd0-acb4-14d9fd873f83",
   "metadata": {},
   "source": [
    "## input from the boundary"
   ]
  },
  {
   "cell_type": "code",
   "execution_count": 16,
   "id": "f6e48fe9-26c7-45d4-9e70-7fc602b33ae1",
   "metadata": {},
   "outputs": [],
   "source": [
    "start_date = datetime(2010, 1, 1)\n",
    "end_date = datetime(2010, 10, 1)\n",
    "\n",
    "df_bnd = pd.read_csv(join(output_folder, 'inputs.csv'), parse_dates=['date'])\n",
    "df_bnd = df_bnd.loc[np.logical_and(df_bnd['date'] >= start_date, df_bnd['date'] < end_date)]"
   ]
  },
  {
   "cell_type": "markdown",
   "id": "5cd717af-da64-4c45-83b5-f3301c98204d",
   "metadata": {},
   "source": [
    "## Plot in the region"
   ]
  },
  {
   "cell_type": "code",
   "execution_count": 17,
   "id": "101d67be-af53-4f41-9c5a-2d645d1a3e84",
   "metadata": {
    "tags": []
   },
   "outputs": [
    {
     "data": {
      "text/plain": [
       "<matplotlib.collections.PathCollection at 0x7fec53c14520>"
      ]
     },
     "execution_count": 17,
     "metadata": {},
     "output_type": "execute_result"
    },
    {
     "data": {
      "image/png": "[encoded data removed]",
      "text/plain": [
       "<Figure size 432x288 with 1 Axes>"
      ]
     },
     "metadata": {
      "needs_background": "light"
     },
     "output_type": "display_data"
    }
   ],
   "source": [
    "fig = plt.figure()\n",
    "ax = fig.add_subplot(1,1,1)\n",
    "\n",
    "ax.scatter(df_subset.longitude, df_subset.latitude, s=0.2, color='k')\n",
    "ax.scatter(df_subset_r.longitude, df_subset_r.latitude, s=0.2, color='r')\n",
    "ax.scatter(df_bnd.longitude, df_bnd.latitude, s=0.2, color='b')"
   ]
  }
 ],
 "metadata": {
  "kernelspec": {
   "display_name": "research",
   "language": "python",
   "name": "research"
  },
  "language_info": {
   "codemirror_mode": {
    "name": "ipython",
    "version": 3
   },
   "file_extension": ".py",
   "mimetype": "text/x-python",
   "name": "python",
   "nbconvert_exporter": "python",
   "pygments_lexer": "ipython3",
   "version": "3.11.0"
  }
 },
 "nbformat": 4,
 "nbformat_minor": 5
}
